{
  "nbformat": 4,
  "nbformat_minor": 0,
  "metadata": {
    "colab": {
      "provenance": []
    },
    "kernelspec": {
      "name": "python3",
      "display_name": "Python 3"
    },
    "language_info": {
      "name": "python"
    }
  },
  "cells": [
    {
      "cell_type": "code",
      "source": [],
      "metadata": {
        "id": "8Ka4ZpgYFYwI"
      },
      "execution_count": null,
      "outputs": []
    },
    {
      "cell_type": "code",
      "source": [
        "# Install required dependencies\n",
        "!apt-get install -y poppler-utils\n",
        "!sudo apt install tesseract-ocr -y\n",
        "!sudo apt install tesseract-ocr-hin -y  # Install Hindi OCR model\n",
        "!pip install pytesseract pdf2image pandas openpyxl\n",
        "\n",
        "import pytesseract\n",
        "from pdf2image import convert_from_path\n",
        "import pandas as pd\n",
        "import os\n",
        "import re\n",
        "\n",
        "# ✅ Set up Tesseract for Hindi OCR\n",
        "pytesseract.pytesseract.tesseract_cmd = \"/usr/bin/tesseract\"\n",
        "os.environ[\"TESSDATA_PREFIX\"] = \"/usr/share/tesseract-ocr/4.00/tessdata/\"\n",
        "\n",
        "# ✅ Make sure your PDF file exists in /content/\n",
        "pdf_path = \"/content/your_file.pdf\"  # Change this to your actual file name\n",
        "\n",
        "# Check if file exists\n",
        "if not os.path.exists(pdf_path):\n",
        "    print(f\"❌ Error: File '{pdf_path}' not found. Upload the PDF file to /content/ and try again.\")\n",
        "    from google.colab import files\n",
        "    uploaded = files.upload()  # Allow user to upload a file\n",
        "\n",
        "# ✅ Convert PDF pages to images\n",
        "images = convert_from_path(pdf_path)\n",
        "\n",
        "# ✅ Function to clean illegal characters for Excel\n",
        "def clean_text(text):\n",
        "    return re.sub(r'[\\x00-\\x1F\\x7F]', '', text)  # Remove control characters\n",
        "\n",
        "# ✅ Extract Hindi text from images\n",
        "extracted_text = []\n",
        "for i, img in enumerate(images):\n",
        "    text = pytesseract.image_to_string(img, lang=\"hin\")  # Extract Hindi text\n",
        "    cleaned_text = clean_text(text)  # Clean text for Excel\n",
        "    extracted_text.append(cleaned_text)\n",
        "\n",
        "# ✅ Save extracted text to an Excel file\n",
        "df = pd.DataFrame({\"Page\": range(1, len(extracted_text) + 1), \"Extracted Text\": extracted_text})\n",
        "excel_path = \"/content/extracted_text.xlsx\"\n",
        "df.to_excel(excel_path, index=False)\n",
        "\n",
        "print(\"✅ Hindi text extracted and saved to:\", excel_path)\n",
        "\n",
        "# ✅ Automatically download the Excel file\n",
        "from google.colab import files\n",
        "files.download(excel_path)\n"
      ],
      "metadata": {
        "colab": {
          "base_uri": "https://localhost:8080/",
          "height": 537
        },
        "id": "RtoeLpEzK-bB",
        "outputId": "c41c0e2b-9fe0-4e30-d24b-d34f03346352"
      },
      "execution_count": 4,
      "outputs": [
        {
          "output_type": "stream",
          "name": "stdout",
          "text": [
            "Reading package lists... Done\n",
            "Building dependency tree... Done\n",
            "Reading state information... Done\n",
            "poppler-utils is already the newest version (22.02.0-2ubuntu0.6).\n",
            "0 upgraded, 0 newly installed, 0 to remove and 29 not upgraded.\n",
            "Reading package lists... Done\n",
            "Building dependency tree... Done\n",
            "Reading state information... Done\n",
            "tesseract-ocr is already the newest version (4.1.1-2.1build1).\n",
            "0 upgraded, 0 newly installed, 0 to remove and 29 not upgraded.\n",
            "Reading package lists... Done\n",
            "Building dependency tree... Done\n",
            "Reading state information... Done\n",
            "tesseract-ocr-hin is already the newest version (1:4.00~git30-7274cfa-1.1).\n",
            "0 upgraded, 0 newly installed, 0 to remove and 29 not upgraded.\n",
            "Requirement already satisfied: pytesseract in /usr/local/lib/python3.11/dist-packages (0.3.13)\n",
            "Requirement already satisfied: pdf2image in /usr/local/lib/python3.11/dist-packages (1.17.0)\n",
            "Requirement already satisfied: pandas in /usr/local/lib/python3.11/dist-packages (2.2.2)\n",
            "Requirement already satisfied: openpyxl in /usr/local/lib/python3.11/dist-packages (3.1.5)\n",
            "Requirement already satisfied: packaging>=21.3 in /usr/local/lib/python3.11/dist-packages (from pytesseract) (24.2)\n",
            "Requirement already satisfied: Pillow>=8.0.0 in /usr/local/lib/python3.11/dist-packages (from pytesseract) (11.1.0)\n",
            "Requirement already satisfied: numpy>=1.23.2 in /usr/local/lib/python3.11/dist-packages (from pandas) (1.26.4)\n",
            "Requirement already satisfied: python-dateutil>=2.8.2 in /usr/local/lib/python3.11/dist-packages (from pandas) (2.8.2)\n",
            "Requirement already satisfied: pytz>=2020.1 in /usr/local/lib/python3.11/dist-packages (from pandas) (2025.1)\n",
            "Requirement already satisfied: tzdata>=2022.7 in /usr/local/lib/python3.11/dist-packages (from pandas) (2025.1)\n",
            "Requirement already satisfied: et-xmlfile in /usr/local/lib/python3.11/dist-packages (from openpyxl) (2.0.0)\n",
            "Requirement already satisfied: six>=1.5 in /usr/local/lib/python3.11/dist-packages (from python-dateutil>=2.8.2->pandas) (1.17.0)\n",
            "✅ Hindi text extracted and saved to: /content/extracted_text.xlsx\n"
          ]
        },
        {
          "output_type": "display_data",
          "data": {
            "text/plain": [
              "<IPython.core.display.Javascript object>"
            ],
            "application/javascript": [
              "\n",
              "    async function download(id, filename, size) {\n",
              "      if (!google.colab.kernel.accessAllowed) {\n",
              "        return;\n",
              "      }\n",
              "      const div = document.createElement('div');\n",
              "      const label = document.createElement('label');\n",
              "      label.textContent = `Downloading \"${filename}\": `;\n",
              "      div.appendChild(label);\n",
              "      const progress = document.createElement('progress');\n",
              "      progress.max = size;\n",
              "      div.appendChild(progress);\n",
              "      document.body.appendChild(div);\n",
              "\n",
              "      const buffers = [];\n",
              "      let downloaded = 0;\n",
              "\n",
              "      const channel = await google.colab.kernel.comms.open(id);\n",
              "      // Send a message to notify the kernel that we're ready.\n",
              "      channel.send({})\n",
              "\n",
              "      for await (const message of channel.messages) {\n",
              "        // Send a message to notify the kernel that we're ready.\n",
              "        channel.send({})\n",
              "        if (message.buffers) {\n",
              "          for (const buffer of message.buffers) {\n",
              "            buffers.push(buffer);\n",
              "            downloaded += buffer.byteLength;\n",
              "            progress.value = downloaded;\n",
              "          }\n",
              "        }\n",
              "      }\n",
              "      const blob = new Blob(buffers, {type: 'application/binary'});\n",
              "      const a = document.createElement('a');\n",
              "      a.href = window.URL.createObjectURL(blob);\n",
              "      a.download = filename;\n",
              "      div.appendChild(a);\n",
              "      a.click();\n",
              "      div.remove();\n",
              "    }\n",
              "  "
            ]
          },
          "metadata": {}
        },
        {
          "output_type": "display_data",
          "data": {
            "text/plain": [
              "<IPython.core.display.Javascript object>"
            ],
            "application/javascript": [
              "download(\"download_908cd698-50a2-477d-a89f-8cdbc21e26ea\", \"extracted_text.xlsx\", 30913)"
            ]
          },
          "metadata": {}
        }
      ]
    }
  ]
}